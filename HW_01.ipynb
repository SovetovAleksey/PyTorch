{
  "cells": [
    {
      "cell_type": "markdown",
      "metadata": {
        "id": "view-in-github",
        "colab_type": "text"
      },
      "source": [
        "<a href=\"https://colab.research.google.com/github/SovetovAleksey/PyTorch/blob/main/HW_01.ipynb\" target=\"_parent\"><img src=\"https://colab.research.google.com/assets/colab-badge.svg\" alt=\"Open In Colab\"/></a>"
      ]
    },
    {
      "cell_type": "code",
      "source": [
        "!pip3 install torch torchvision"
      ],
      "metadata": {
        "colab": {
          "base_uri": "https://localhost:8080/"
        },
        "id": "U06-b3-dYSiN",
        "outputId": "da26cae8-b920-4ab3-9194-21e8bffca4ae"
      },
      "execution_count": 1,
      "outputs": [
        {
          "output_type": "stream",
          "name": "stdout",
          "text": [
            "Looking in indexes: https://pypi.org/simple, https://us-python.pkg.dev/colab-wheels/public/simple/\n",
            "Requirement already satisfied: torch in /usr/local/lib/python3.10/dist-packages (2.0.1+cu118)\n",
            "Requirement already satisfied: torchvision in /usr/local/lib/python3.10/dist-packages (0.15.2+cu118)\n",
            "Requirement already satisfied: filelock in /usr/local/lib/python3.10/dist-packages (from torch) (3.12.0)\n",
            "Requirement already satisfied: typing-extensions in /usr/local/lib/python3.10/dist-packages (from torch) (4.5.0)\n",
            "Requirement already satisfied: sympy in /usr/local/lib/python3.10/dist-packages (from torch) (1.11.1)\n",
            "Requirement already satisfied: networkx in /usr/local/lib/python3.10/dist-packages (from torch) (3.1)\n",
            "Requirement already satisfied: jinja2 in /usr/local/lib/python3.10/dist-packages (from torch) (3.1.2)\n",
            "Requirement already satisfied: triton==2.0.0 in /usr/local/lib/python3.10/dist-packages (from torch) (2.0.0)\n",
            "Requirement already satisfied: cmake in /usr/local/lib/python3.10/dist-packages (from triton==2.0.0->torch) (3.25.2)\n",
            "Requirement already satisfied: lit in /usr/local/lib/python3.10/dist-packages (from triton==2.0.0->torch) (16.0.5)\n",
            "Requirement already satisfied: numpy in /usr/local/lib/python3.10/dist-packages (from torchvision) (1.22.4)\n",
            "Requirement already satisfied: requests in /usr/local/lib/python3.10/dist-packages (from torchvision) (2.27.1)\n",
            "Requirement already satisfied: pillow!=8.3.*,>=5.3.0 in /usr/local/lib/python3.10/dist-packages (from torchvision) (8.4.0)\n",
            "Requirement already satisfied: MarkupSafe>=2.0 in /usr/local/lib/python3.10/dist-packages (from jinja2->torch) (2.1.2)\n",
            "Requirement already satisfied: urllib3<1.27,>=1.21.1 in /usr/local/lib/python3.10/dist-packages (from requests->torchvision) (1.26.15)\n",
            "Requirement already satisfied: certifi>=2017.4.17 in /usr/local/lib/python3.10/dist-packages (from requests->torchvision) (2022.12.7)\n",
            "Requirement already satisfied: charset-normalizer~=2.0.0 in /usr/local/lib/python3.10/dist-packages (from requests->torchvision) (2.0.12)\n",
            "Requirement already satisfied: idna<4,>=2.5 in /usr/local/lib/python3.10/dist-packages (from requests->torchvision) (3.4)\n",
            "Requirement already satisfied: mpmath>=0.19 in /usr/local/lib/python3.10/dist-packages (from sympy->torch) (1.3.0)\n"
          ]
        }
      ]
    },
    {
      "cell_type": "code",
      "execution_count": 2,
      "metadata": {
        "id": "wFi225LpYDuw"
      },
      "outputs": [],
      "source": [
        "import torch"
      ]
    },
    {
      "cell_type": "code",
      "execution_count": 36,
      "metadata": {
        "colab": {
          "base_uri": "https://localhost:8080/"
        },
        "id": "Qn_3PWG2YDu6",
        "outputId": "5aa1f370-d9e1-4a58-939e-45455132ba41"
      },
      "outputs": [
        {
          "output_type": "execute_result",
          "data": {
            "text/plain": [
              "tensor([[[0.2963, 0.2870, 0.2794, 0.0751, 0.9144],\n",
              "         [0.4003, 0.7475, 0.5044, 0.8966, 0.4990],\n",
              "         [0.5486, 0.4308, 0.6801, 0.8052, 0.3852],\n",
              "         [0.7808, 0.7267, 0.9919, 0.4887, 0.1613]],\n",
              "\n",
              "        [[0.3905, 0.6657, 0.7951, 0.3130, 0.7085],\n",
              "         [0.1722, 0.1754, 0.6932, 0.4967, 0.8226],\n",
              "         [0.7701, 0.3979, 0.3802, 0.5238, 0.1843],\n",
              "         [0.3802, 0.9700, 0.0271, 0.1974, 0.6088]],\n",
              "\n",
              "        [[0.8131, 0.9518, 0.0465, 0.2506, 0.0468],\n",
              "         [0.6595, 0.2431, 0.8423, 0.8409, 0.4945],\n",
              "         [0.4180, 0.8762, 0.2588, 0.6555, 0.3091],\n",
              "         [0.9330, 0.2845, 0.1190, 0.8450, 0.6422]]])"
            ]
          },
          "metadata": {},
          "execution_count": 36
        }
      ],
      "source": [
        "# Создайте случайный FloatTensor размера 3x4x5\n",
        "a = torch.rand(size=(3, 4, 5), dtype=torch.float)\n",
        "a"
      ]
    },
    {
      "cell_type": "code",
      "execution_count": 37,
      "metadata": {
        "colab": {
          "base_uri": "https://localhost:8080/"
        },
        "id": "weljm9EGYDu7",
        "outputId": "5d982db3-d3be-4562-a0c5-de302c8cf6c4"
      },
      "outputs": [
        {
          "output_type": "execute_result",
          "data": {
            "text/plain": [
              "torch.Size([3, 4, 5])"
            ]
          },
          "metadata": {},
          "execution_count": 37
        }
      ],
      "source": [
        "# Выведите его форму (shape)\n",
        "a.shape"
      ]
    },
    {
      "cell_type": "code",
      "execution_count": 38,
      "metadata": {
        "colab": {
          "base_uri": "https://localhost:8080/"
        },
        "id": "nn03tyzGYDu8",
        "outputId": "ea5096af-f30e-4f89-cf10-d3e8d3f79efd"
      },
      "outputs": [
        {
          "output_type": "execute_result",
          "data": {
            "text/plain": [
              "tensor([[0.2963, 0.2870, 0.2794, 0.0751, 0.9144, 0.4003, 0.7475, 0.5044, 0.8966,\n",
              "         0.4990],\n",
              "        [0.5486, 0.4308, 0.6801, 0.8052, 0.3852, 0.7808, 0.7267, 0.9919, 0.4887,\n",
              "         0.1613],\n",
              "        [0.3905, 0.6657, 0.7951, 0.3130, 0.7085, 0.1722, 0.1754, 0.6932, 0.4967,\n",
              "         0.8226],\n",
              "        [0.7701, 0.3979, 0.3802, 0.5238, 0.1843, 0.3802, 0.9700, 0.0271, 0.1974,\n",
              "         0.6088],\n",
              "        [0.8131, 0.9518, 0.0465, 0.2506, 0.0468, 0.6595, 0.2431, 0.8423, 0.8409,\n",
              "         0.4945],\n",
              "        [0.4180, 0.8762, 0.2588, 0.6555, 0.3091, 0.9330, 0.2845, 0.1190, 0.8450,\n",
              "         0.6422]])"
            ]
          },
          "metadata": {},
          "execution_count": 38
        }
      ],
      "source": [
        "# Приведите его к форме 6 X 10\n",
        "b = a.reshape(6, 10)\n",
        "b"
      ]
    },
    {
      "cell_type": "code",
      "execution_count": 39,
      "metadata": {
        "colab": {
          "base_uri": "https://localhost:8080/"
        },
        "id": "t_5f70tcYDu9",
        "outputId": "07eb6323-cdc5-493c-b322-f5866ea30795"
      },
      "outputs": [
        {
          "output_type": "execute_result",
          "data": {
            "text/plain": [
              "tensor([[0.2963, 1.1482, 0.5588, 0.1503, 0.9144, 0.4003, 2.9899, 1.0087, 1.7932,\n",
              "         0.4990],\n",
              "        [0.5486, 1.7234, 1.3603, 1.6103, 0.3852, 0.7808, 2.9069, 1.9838, 0.9774,\n",
              "         0.1613],\n",
              "        [0.3905, 2.6629, 1.5901, 0.6260, 0.7085, 0.1722, 0.7016, 1.3864, 0.9934,\n",
              "         0.8226],\n",
              "        [0.7701, 1.5917, 0.7605, 1.0476, 0.1843, 0.3802, 3.8799, 0.0543, 0.3948,\n",
              "         0.6088],\n",
              "        [0.8131, 3.8074, 0.0929, 0.5012, 0.0468, 0.6595, 0.9722, 1.6846, 1.6819,\n",
              "         0.4945],\n",
              "        [0.4180, 3.5049, 0.5177, 1.3111, 0.3091, 0.9330, 1.1379, 0.2380, 1.6901,\n",
              "         0.6422]])"
            ]
          },
          "metadata": {},
          "execution_count": 39
        }
      ],
      "source": [
        "# Умножьте его на вектор [1, 4, 2, 2, 1] поэлементно\n",
        "c = torch.tensor([1, 4, 2, 2, 1])\n",
        "b = torch.mul(b, torch.cat((c, c), 0))\n",
        "b"
      ]
    },
    {
      "cell_type": "code",
      "execution_count": 40,
      "metadata": {
        "colab": {
          "base_uri": "https://localhost:8080/"
        },
        "id": "C7719girYDu9",
        "outputId": "15bbcd46-f716-416b-ced5-e6069a9e5f79"
      },
      "outputs": [
        {
          "output_type": "execute_result",
          "data": {
            "text/plain": [
              "tensor([[16.1586, 16.3336, 10.5605, 15.6258, 12.9152, 12.2837],\n",
              "        [16.3336, 21.8393, 14.2752, 18.1251, 16.3656, 15.4677],\n",
              "        [10.5605, 14.2752, 14.7734, 10.2907, 16.1595, 14.8554],\n",
              "        [15.6258, 18.1251, 10.2907, 20.5640, 12.3701, 13.5655],\n",
              "        [12.9152, 16.3656, 16.1595, 12.3701, 22.7104, 19.6863],\n",
              "        [12.2837, 15.4677, 14.8554, 13.5655, 19.6863, 20.0319]])"
            ]
          },
          "metadata": {},
          "execution_count": 40
        }
      ],
      "source": [
        "# Умножьте тензор матрично на себя, чтобы результат был размерности 6x6\n",
        "b = torch.matmul(b, b.T)\n",
        "b.shape\n",
        "b"
      ]
    },
    {
      "cell_type": "code",
      "execution_count": 42,
      "metadata": {
        "colab": {
          "base_uri": "https://localhost:8080/"
        },
        "id": "ETQaWC8WYDu-",
        "outputId": "19025106-9746-40bb-d551-c3bdc13d7e7f"
      },
      "outputs": [
        {
          "output_type": "execute_result",
          "data": {
            "text/plain": [
              "tensor([ -71.0000,  -36.6250, -124.0000])"
            ]
          },
          "metadata": {},
          "execution_count": 42
        }
      ],
      "source": [
        "# Посчитайте производную функции y = x**3 + z - 75t в точке (1, 0.5, 2)\n",
        "v = torch.tensor([1, 0.5, 2], requires_grad=True)\n",
        "y = v**3 + v - 75*v\n",
        "y.backward(v)\n",
        "v.grad"
      ]
    },
    {
      "cell_type": "code",
      "execution_count": 44,
      "metadata": {
        "colab": {
          "base_uri": "https://localhost:8080/"
        },
        "id": "ruFppgi5YDu_",
        "outputId": "dfe63496-5ff2-4b86-8ec6-08f079f44506"
      },
      "outputs": [
        {
          "output_type": "execute_result",
          "data": {
            "text/plain": [
              "tensor([[1., 1., 1., 1., 1., 1.],\n",
              "        [1., 1., 1., 1., 1., 1.],\n",
              "        [1., 1., 1., 1., 1., 1.],\n",
              "        [1., 1., 1., 1., 1., 1.],\n",
              "        [1., 1., 1., 1., 1., 1.]])"
            ]
          },
          "metadata": {},
          "execution_count": 44
        }
      ],
      "source": [
        "# Создайте единичный тензор размера 5x6\n",
        "ones = torch.ones(5,6)\n",
        "ones"
      ]
    },
    {
      "cell_type": "code",
      "execution_count": 45,
      "metadata": {
        "colab": {
          "base_uri": "https://localhost:8080/"
        },
        "id": "14jNLT9PYDu_",
        "outputId": "25ae89fa-8b7e-4ccc-decc-36eab23e83cc"
      },
      "outputs": [
        {
          "output_type": "execute_result",
          "data": {
            "text/plain": [
              "array([[1., 1., 1., 1., 1., 1.],\n",
              "       [1., 1., 1., 1., 1., 1.],\n",
              "       [1., 1., 1., 1., 1., 1.],\n",
              "       [1., 1., 1., 1., 1., 1.],\n",
              "       [1., 1., 1., 1., 1., 1.]], dtype=float32)"
            ]
          },
          "metadata": {},
          "execution_count": 45
        }
      ],
      "source": [
        "# Переведите его в формат numpy\n",
        "ones.numpy()"
      ]
    }
  ],
  "metadata": {
    "kernelspec": {
      "display_name": "Python 3",
      "language": "python",
      "name": "python3"
    },
    "language_info": {
      "codemirror_mode": {
        "name": "ipython",
        "version": 3
      },
      "file_extension": ".py",
      "mimetype": "text/x-python",
      "name": "python",
      "nbconvert_exporter": "python",
      "pygments_lexer": "ipython3",
      "version": "3.7.4"
    },
    "colab": {
      "provenance": [],
      "include_colab_link": true
    }
  },
  "nbformat": 4,
  "nbformat_minor": 0
}