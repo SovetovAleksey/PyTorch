{
  "cells": [
    {
      "cell_type": "markdown",
      "metadata": {
        "id": "view-in-github",
        "colab_type": "text"
      },
      "source": [
        "<a href=\"https://colab.research.google.com/github/SovetovAleksey/PyTorch/blob/main/HW_08.ipynb\" target=\"_parent\"><img src=\"https://colab.research.google.com/assets/colab-badge.svg\" alt=\"Open In Colab\"/></a>"
      ]
    },
    {
      "cell_type": "markdown",
      "id": "30787fc8",
      "metadata": {
        "id": "30787fc8"
      },
      "source": [
        "1. Обучить генератор создавать точки, которые будут лежать на графике функции\n",
        " $$y = \\frac{sin(x)}{x} - \\frac{x}{10}$$\n",
        "При выполнении данного задания структура GAN остается той же, но Вам нужно:\n",
        "- Сгенерировать настоящие данные\n",
        "- Изменить архитектуру дискриминатора и генератора\n",
        "- Построить графики"
      ]
    },
    {
      "cell_type": "code",
      "execution_count": null,
      "id": "be5b70a3",
      "metadata": {
        "id": "be5b70a3"
      },
      "outputs": [],
      "source": [
        "import numpy as np\n",
        "import pandas as pd\n",
        "import random\n",
        "from sklearn.preprocessing import MinMaxScaler\n",
        "\n",
        "import matplotlib.pyplot as plt\n",
        "import matplotlib.patches as mpatches\n",
        "import IPython.display as display\n",
        "\n",
        "import torch\n",
        "import torch.nn as nn\n",
        "from torch.utils.data import DataLoader\n",
        "from torchvision import datasets"
      ]
    },
    {
      "cell_type": "code",
      "execution_count": null,
      "id": "2d9bc5d0",
      "metadata": {
        "id": "2d9bc5d0"
      },
      "outputs": [],
      "source": [
        "def _sin(x):\n",
        "    return np.sin(x) / x - x / 10"
      ]
    },
    {
      "cell_type": "code",
      "execution_count": null,
      "id": "0a384515",
      "metadata": {
        "id": "0a384515"
      },
      "outputs": [],
      "source": [
        "x = np.linspace(-15, 15, 200000)\n",
        "y = _sin(x)"
      ]
    },
    {
      "cell_type": "code",
      "execution_count": null,
      "id": "f055f4ff",
      "metadata": {
        "id": "f055f4ff",
        "outputId": "2957e615-3aff-4a3f-c8e0-f821344c29e1"
      },
      "outputs": [
        {
          "data": {
            "image/png": "[encoded data removed]",
            "text/plain": [
              "<Figure size 1080x360 with 1 Axes>"
            ]
          },
          "metadata": {
            "needs_background": "light"
          },
          "output_type": "display_data"
        }
      ],
      "source": [
        "plt.figure(figsize = (15,5))\n",
        "plt.plot(x, y)\n",
        "plt.show()"
      ]
    },
    {
      "cell_type": "code",
      "execution_count": null,
      "id": "dffb7d98",
      "metadata": {
        "id": "dffb7d98",
        "outputId": "4a059142-174b-4b5f-9710-d93e67722b06"
      },
      "outputs": [
        {
          "data": {
            "text/html": [
              "<div>\n",
              "<style scoped>\n",
              "    .dataframe tbody tr th:only-of-type {\n",
              "        vertical-align: middle;\n",
              "    }\n",
              "\n",
              "    .dataframe tbody tr th {\n",
              "        vertical-align: top;\n",
              "    }\n",
              "\n",
              "    .dataframe thead th {\n",
              "        text-align: right;\n",
              "    }\n",
              "</style>\n",
              "<table border=\"1\" class=\"dataframe\">\n",
              "  <thead>\n",
              "    <tr style=\"text-align: right;\">\n",
              "      <th></th>\n",
              "      <th>x</th>\n",
              "      <th>y</th>\n",
              "    </tr>\n",
              "  </thead>\n",
              "  <tbody>\n",
              "    <tr>\n",
              "      <th>0</th>\n",
              "      <td>-15.00000</td>\n",
              "      <td>1.543353</td>\n",
              "    </tr>\n",
              "    <tr>\n",
              "      <th>1</th>\n",
              "      <td>-14.99985</td>\n",
              "      <td>1.543346</td>\n",
              "    </tr>\n",
              "    <tr>\n",
              "      <th>2</th>\n",
              "      <td>-14.99970</td>\n",
              "      <td>1.543339</td>\n",
              "    </tr>\n",
              "  </tbody>\n",
              "</table>\n",
              "</div>"
            ],
            "text/plain": [
              "          x         y\n",
              "0 -15.00000  1.543353\n",
              "1 -14.99985  1.543346\n",
              "2 -14.99970  1.543339"
            ]
          },
          "execution_count": 5,
          "metadata": {},
          "output_type": "execute_result"
        }
      ],
      "source": [
        "df = pd.DataFrame(list(zip(x, y)), columns=['x', 'y'])\n",
        "df.head(3)"
      ]
    },
    {
      "cell_type": "code",
      "execution_count": null,
      "id": "af7e8994",
      "metadata": {
        "id": "af7e8994"
      },
      "outputs": [],
      "source": [
        "# класс датасета\n",
        "class MyOwnClass(torch.utils.data.Dataset):\n",
        "\n",
        "    def __init__(self, data):\n",
        "        self._data = data\n",
        "\n",
        "    def __len__(self):\n",
        "        return len(self._data)\n",
        "\n",
        "    def __getitem__(self, idx):\n",
        "        point = self._data[idx]\n",
        "\n",
        "        return point"
      ]
    },
    {
      "cell_type": "code",
      "execution_count": null,
      "id": "175e2378",
      "metadata": {
        "id": "175e2378"
      },
      "outputs": [],
      "source": [
        "class Generator(nn.Module):\n",
        "    def __init__(self):\n",
        "        super().__init__()\n",
        "\n",
        "        # Использование таких словарей позволяет нам варьировать параметры нашей сети в процессе использования\n",
        "        self.activations = nn.ModuleDict([\n",
        "            ['lrelu', nn.LeakyReLU(0.2, inplace=True)],\n",
        "            ['relu', nn.ReLU()]\n",
        "        ])\n",
        "\n",
        "        def block(in_feat, out_feat, normalize=True, activation='relu'):\n",
        "            layers = [nn.Linear(in_feat, out_feat)]  # Если мы создаем последовательность слоев - то мы задаем их\n",
        "                                                     # с помощью списка.\n",
        "            if normalize:\n",
        "                layers.append(nn.BatchNorm1d(out_feat))\n",
        "            layers.append(self.activations[activation])  # Эта строчка означает тоже самое что и\n",
        "                                                         # layers.append(nn.LeakyReLU(0.2, inplace=True))\n",
        "            return layers\n",
        "\n",
        "        self.model = nn.Sequential(\n",
        "            *block(latent_dim, 128, normalize=False),  # Звездочка означает unpacking списка\n",
        "            *block(128, 256, activation='lrelu'),\n",
        "            *block(256, 512),\n",
        "            *block(512, 1024),\n",
        "             nn.Linear(1024, 2),\n",
        "             nn.Linear(2, 2),\n",
        "             nn.Tanh()\n",
        "        )\n",
        "\n",
        "    def forward(self, z):\n",
        "        new_point = self.model(z)\n",
        "        new_point = new_point.reshape(-1, 2)\n",
        "        return new_point"
      ]
    },
    {
      "cell_type": "code",
      "execution_count": null,
      "id": "51118d0e",
      "metadata": {
        "id": "51118d0e"
      },
      "outputs": [],
      "source": [
        "class CustomLinearLayer(nn.Module):\n",
        "    def __init__(self, size_in, size_out):\n",
        "        super().__init__()\n",
        "        self.size_in, self.size_out = size_in, size_out\n",
        "\n",
        "        weights = torch.Tensor(size_out, size_in)\n",
        "        self.weights = nn.Parameter(weights) # Обьявляем веса как параметры слоя\n",
        "\n",
        "        bias = torch.Tensor(size_out)\n",
        "        self.bias = nn.Parameter(bias)\n",
        "\n",
        "        nn.init.uniform_(self.weights, -0.005, 0.005)\n",
        "        nn.init.uniform_(self.bias, -0.005, 0.005)\n",
        "\n",
        "    def forward(self, x):\n",
        "        # По формуле линейного слоя, нам нужно умножить наши данные\n",
        "        # на транспонированные веса и добавить смещение\n",
        "        w_times_x = torch.mm(x, self.weights.t())\n",
        "        return torch.add(w_times_x, self.bias)"
      ]
    },
    {
      "cell_type": "code",
      "execution_count": null,
      "id": "968c4835",
      "metadata": {
        "id": "968c4835"
      },
      "outputs": [],
      "source": [
        "class Discriminator(nn.Module):\n",
        "    def __init__(self):\n",
        "        super().__init__()\n",
        "\n",
        "        self.model = nn.Sequential(\n",
        "            CustomLinearLayer(2, 512),\n",
        "            nn.LeakyReLU(0.2, inplace=True),\n",
        "            CustomLinearLayer(512, 256),\n",
        "            nn.LeakyReLU(0.2, inplace=True),\n",
        "            CustomLinearLayer(256, 1),\n",
        "            nn.Sigmoid()\n",
        "        )\n",
        "\n",
        "\n",
        "    def forward(self, img):\n",
        "        img_flat = img\n",
        "        validity = self.model(img_flat)\n",
        "        return validity"
      ]
    },
    {
      "cell_type": "code",
      "execution_count": null,
      "id": "1e091f0c",
      "metadata": {
        "id": "1e091f0c"
      },
      "outputs": [],
      "source": [
        "n_epochs = 20  # количество эпох\n",
        "lr = 0.001  # шаг обучения\n",
        "\n",
        "b1 = 0.5  # гиперпараметр для оптимайзера Adam\n",
        "b2 = 0.999  # гиперпараметр для оптимайзера Adam\n",
        "\n",
        "latent_dim = 100  # Размерность случайного вектора, который подается на вход генератору\n",
        "\n",
        "sample_interval = 100  # количество итераций для отображения процесса обучения\n",
        "\n",
        "batch_size = 256"
      ]
    },
    {
      "cell_type": "code",
      "execution_count": null,
      "id": "fbb8a8f7",
      "metadata": {
        "id": "fbb8a8f7"
      },
      "outputs": [],
      "source": [
        "scaler = MinMaxScaler()\n",
        "df = scaler.fit_transform(df)\n",
        "data_train = torch.FloatTensor(df).float()\n",
        "\n",
        "train_dataset = MyOwnClass(data_train)\n",
        "\n",
        "train_loader = torch.utils.data.DataLoader(train_dataset,\n",
        "                          batch_size=batch_size,\n",
        "                          shuffle=True,\n",
        "                          drop_last=True,\n",
        "                          num_workers=0)"
      ]
    },
    {
      "cell_type": "code",
      "execution_count": null,
      "id": "483c1cc1",
      "metadata": {
        "id": "483c1cc1"
      },
      "outputs": [],
      "source": [
        "generator = Generator()\n",
        "discriminator = Discriminator()\n",
        "\n",
        "# опитимизатор для каждой сети\n",
        "optimizer_G = torch.optim.Adam(generator.parameters(), lr=lr, betas=(b1, b2))\n",
        "optimizer_D = torch.optim.Adam(discriminator.parameters(), lr=lr, betas=(b1, b2))\n",
        "\n",
        "# функция ошибки\n",
        "adversarial_loss = torch.nn.BCELoss()"
      ]
    },
    {
      "cell_type": "code",
      "execution_count": null,
      "id": "4b77c662",
      "metadata": {
        "id": "4b77c662"
      },
      "outputs": [],
      "source": [
        "d_loss_history = []\n",
        "g_loss_history = []"
      ]
    },
    {
      "cell_type": "code",
      "execution_count": null,
      "id": "48a76b2f",
      "metadata": {
        "scrolled": false,
        "id": "48a76b2f",
        "outputId": "d20b0a34-513d-4669-c5be-9b5d86714d81"
      },
      "outputs": [
        {
          "name": "stdout",
          "output_type": "stream",
          "text": [
            "[Epoch 19/20] [Batch 761/781]|[D loss: 0.6823429465293884] [G loss: 0.801528811454773]\n"
          ]
        },
        {
          "data": {
            "image/png": "[encoded data removed]",
            "text/plain": [
              "<Figure size 432x288 with 1 Axes>"
            ]
          },
          "metadata": {
            "needs_background": "light"
          },
          "output_type": "display_data"
        },
        {
          "data": {
            "image/png": "[encoded data removed]",
            "text/plain": [
              "<Figure size 432x288 with 1 Axes>"
            ]
          },
          "metadata": {
            "needs_background": "light"
          },
          "output_type": "display_data"
        }
      ],
      "source": [
        "red_patch = mpatches.Patch(color='red', label='D loss')\n",
        "green_patch = mpatches.Patch(color='green', label='G loss')\n",
        "\n",
        "\n",
        "for epoch in range(n_epochs):\n",
        "    for i, points in enumerate(train_loader):\n",
        "\n",
        "##################### Лейблы для данных: 1 - настоящие, 0 - сгенерированные ########\n",
        "        valid = torch.FloatTensor(batch_size, 1).fill_(1.0) #(B,1) -- столбец-лейблов 1\n",
        "        fake = torch.FloatTensor(batch_size, 1).fill_(0.0)  #(B,1)  -- столбец-лейблов 0\n",
        "\n",
        "        real_points = points.type(torch.FloatTensor) #(B,2) -- реальные данные\n",
        "\n",
        "        # Генерация шума (B,latent_dim)\n",
        "        z = torch.FloatTensor(np.random.normal(0, 1, (batch_size, latent_dim)))\n",
        "        # Генерируем данные Генератором на основе шума\n",
        "        gen_points = generator(z)   #(B,2) -- сгенерированные данные\n",
        "\n",
        "######################  Тренировка дискриминатора    ##########################\n",
        "\n",
        "        # Получаем предсказания дискриминатора на основе реальных данных\n",
        "        real_pred = discriminator(real_points)  #(B,1)\n",
        "\n",
        "        # Тут сравниваем предсказанные значения Дискриминатора(на основе настоящих данных) с настоящими\n",
        "        d_real_loss = adversarial_loss(real_pred, valid)\n",
        "\n",
        "        # Подаем сгенерированые данные на Дискриминатор\n",
        "        fake_pred = discriminator(gen_points) #(B,1)\n",
        "\n",
        "        # расчитываем ошибку предсказанного с фейковыми лейблами\n",
        "        d_fake_loss = adversarial_loss(fake_pred, fake)\n",
        "\n",
        "        # И усредняем два лосса в один\n",
        "        d_loss = (d_real_loss + d_fake_loss) / 2\n",
        "\n",
        "        optimizer_D.zero_grad()\n",
        "        d_loss.backward()\n",
        "        optimizer_D.step()\n",
        "\n",
        "######################  Тренировка генератора    ##########################\n",
        "\n",
        "        # генерация шума\n",
        "        z = torch.FloatTensor(np.random.normal(0, 1, (batch_size, latent_dim))) #(B,latent_dim)\n",
        "\n",
        "        # Генерируем данные Генератором на основе шума\n",
        "        gen_points = generator(z)  #(B,2)\n",
        "\n",
        "        # Подаем сгенерированые данные на Дискриминатор\n",
        "        fake_pred = discriminator(gen_points)  #(B,1)\n",
        "\n",
        "        # Тут сравниваем предсказанные значения Дискриминатора (на основе сгенерировнных данных) с настоящими\n",
        "        g_loss = adversarial_loss(fake_pred, valid)\n",
        "\n",
        "        # Делаем шаг обучения нашего Генератора\n",
        "        optimizer_G.zero_grad()\n",
        "        g_loss.backward()\n",
        "        optimizer_G.step()\n",
        "\n",
        "\n",
        "######## Отображение процесса обучения и вывод функций потерь ############\n",
        "        batches_done = epoch * len(train_loader) + i\n",
        "\n",
        "        if batches_done % sample_interval == 0:\n",
        "            with torch.no_grad():\n",
        "                plt.clf()\n",
        "                display.clear_output(wait=False)\n",
        "                # clear_output(wait=False)\n",
        "\n",
        "                print(f\"[Epoch {epoch}/{n_epochs}] [Batch {i}/{len(train_loader)}]\", end='|')\n",
        "                print(f'[D loss: {d_loss.item()}] [G loss: {g_loss.item()}]')\n",
        "\n",
        "\n",
        "                d_loss = d_loss.detach()  #новый тензор без градиента\n",
        "                g_loss = g_loss.detach()\n",
        "\n",
        "                d_loss_history.append(d_loss)\n",
        "                g_loss_history.append(g_loss)\n",
        "\n",
        "                plt.plot(np.array(d_loss_history), label='D loss')\n",
        "                plt.plot(np.array(g_loss_history), label='G loss')\n",
        "                plt.legend()\n",
        "                plt.show()\n",
        "\n",
        "                x_real, y_real = (real_points.detach()).T\n",
        "                plt.scatter(x_real, y_real, color='red', label='real_points')\n",
        "                x_gen, y_gen = (gen_points.detach()).T\n",
        "                plt.scatter(x_gen, y_gen, color='blue', label='gen_points')\n",
        "                plt.legend()\n",
        "                plt.show()"
      ]
    }
  ],
  "metadata": {
    "kernelspec": {
      "display_name": "Python 3 (ipykernel)",
      "language": "python",
      "name": "python3"
    },
    "language_info": {
      "codemirror_mode": {
        "name": "ipython",
        "version": 3
      },
      "file_extension": ".py",
      "mimetype": "text/x-python",
      "name": "python",
      "nbconvert_exporter": "python",
      "pygments_lexer": "ipython3",
      "version": "3.9.7"
    },
    "colab": {
      "provenance": [],
      "include_colab_link": true
    }
  },
  "nbformat": 4,
  "nbformat_minor": 5
}