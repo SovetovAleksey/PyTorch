{
  "cells": [
    {
      "cell_type": "markdown",
      "metadata": {
        "id": "view-in-github",
        "colab_type": "text"
      },
      "source": [
        "<a href=\"https://colab.research.google.com/github/SovetovAleksey/PyTorch/blob/main/HW_03.ipynb\" target=\"_parent\"><img src=\"https://colab.research.google.com/assets/colab-badge.svg\" alt=\"Open In Colab\"/></a>"
      ]
    },
    {
      "cell_type": "markdown",
      "metadata": {
        "id": "8Ib2St2C4-Qe"
      },
      "source": [
        "- Создать Dataset для загрузки данных (sklearn.datasets.fetch_california_housing)\n",
        "- Обернуть его в Dataloader\n",
        "- Написать архитектуру сети, которая предсказывает стоимость недвижимости. Сеть должна включать BatchNorm слои и Dropout (или НЕ включать, но нужно обосновать)\n",
        "- Сравните сходимость Adam, RMSProp и SGD, сделайте вывод по качеству работы модели train-test разделение нужно сделать с помощью sklearn random_state=13, test_size = 0.25"
      ]
    },
    {
      "cell_type": "code",
      "execution_count": null,
      "metadata": {
        "id": "SzRsB3Rd4-Qh"
      },
      "outputs": [],
      "source": [
        "import numpy as np\n",
        "import pandas as pd\n",
        "\n",
        "import torch\n",
        "from torch import nn\n",
        "from torch.optim import Adam, RMSprop, SGD\n",
        "from torch.utils.data import DataLoader, Dataset\n",
        "import torchmetrics\n",
        "\n",
        "from sklearn.datasets import fetch_california_housing\n",
        "from sklearn.model_selection import train_test_split\n",
        "from sklearn.preprocessing import StandardScaler"
      ]
    },
    {
      "cell_type": "code",
      "execution_count": null,
      "metadata": {
        "id": "sXoOR-fJ4-Qj"
      },
      "outputs": [],
      "source": [
        "california_housing = fetch_california_housing()\n",
        "X_train, X_test, y_train, y_test = train_test_split(california_housing.data, california_housing.target,\n",
        "                                                    test_size=0.25, random_state=13)\n",
        "\n",
        "ss = StandardScaler()\n",
        "X_train = ss.fit_transform(X_train)\n",
        "X_test = ss.transform(X_test)\n",
        "\n",
        "X_train = torch.from_numpy(X_train.astype(np.float32))\n",
        "y_train = torch.from_numpy(y_train.astype(np.float32))\n",
        "X_test = torch.from_numpy(X_test.astype(np.float32))\n",
        "y_test = torch.from_numpy(y_test.astype(np.float32))"
      ]
    },
    {
      "cell_type": "code",
      "execution_count": null,
      "metadata": {
        "id": "xlZ6Yedx4-Qk",
        "outputId": "15dc060a-afdc-4770-9732-c1cc4f9546ba"
      },
      "outputs": [
        {
          "data": {
            "text/plain": [
              "tensor([-0.1815,  0.5791, -0.3400, -0.0045, -0.0654, -0.0871, -0.6718,  0.6756])"
            ]
          },
          "execution_count": 3,
          "metadata": {},
          "output_type": "execute_result"
        }
      ],
      "source": [
        "X_train[0]"
      ]
    },
    {
      "cell_type": "code",
      "execution_count": null,
      "metadata": {
        "id": "5Aie4Hmo4-Ql"
      },
      "outputs": [],
      "source": [
        "class CaliforniaDataset(torch.utils.data.Dataset):\n",
        "\n",
        "    def __init__(self, *init_datasets):\n",
        "        self._base_datasets = init_datasets\n",
        "\n",
        "    def __len__(self):\n",
        "        return len(self._base_datasets[0])\n",
        "\n",
        "    def __getitem__(self, idx):\n",
        "        return tuple(dataset[idx] for dataset in self._base_datasets)"
      ]
    },
    {
      "cell_type": "code",
      "execution_count": null,
      "metadata": {
        "id": "L0DLTtR24-Ql"
      },
      "outputs": [],
      "source": [
        "class CaliforniaNet(nn.Module):\n",
        "    def __init__(self):\n",
        "        super(CaliforniaNet, self).__init__()\n",
        "        self.s1 = nn.Sequential(\n",
        "            nn.Linear(in_features=8, out_features=500, bias=True),\n",
        "            nn.Dropout(0.2),\n",
        "            nn.BatchNorm1d(500),\n",
        "            nn.LeakyReLU())\n",
        "        self.s2 = nn.Sequential(\n",
        "            nn.Linear(in_features=500, out_features=400, bias=True),\n",
        "            nn.Dropout(0.2),\n",
        "            nn.BatchNorm1d(400),\n",
        "            nn.LeakyReLU())\n",
        "        self.s3 = nn.Sequential(\n",
        "            nn.Linear(in_features=400, out_features=100, bias=True),\n",
        "            nn.Dropout(0.1),\n",
        "            nn.BatchNorm1d(100),\n",
        "            nn.LeakyReLU())\n",
        "        self.s4 = nn.Sequential(\n",
        "            nn.Linear(in_features=100, out_features=1, bias=True),\n",
        "            nn.ReLU())\n",
        "\n",
        "    def forward(self, x):\n",
        "        x = self.s1(x)\n",
        "        x = self.s2(x)\n",
        "        x = self.s3(x)\n",
        "        x = self.s4(x)\n",
        "\n",
        "        return x[:, 0]"
      ]
    },
    {
      "cell_type": "code",
      "execution_count": null,
      "metadata": {
        "id": "S5HiSWfr4-Qm"
      },
      "outputs": [],
      "source": [
        "train_dataset = CaliforniaDataset(X_train, y_train)\n",
        "test_dataset = CaliforniaDataset(X_test, y_test)"
      ]
    },
    {
      "cell_type": "code",
      "execution_count": null,
      "metadata": {
        "id": "25vW9dYR4-Qm"
      },
      "outputs": [],
      "source": [
        "train_loader = DataLoader(train_dataset, batch_size=64, shuffle=True, drop_last=True)\n",
        "test_loader = DataLoader(test_dataset, batch_size=64, shuffle=True, drop_last=True)"
      ]
    },
    {
      "cell_type": "code",
      "execution_count": null,
      "metadata": {
        "id": "ecuVfdH04-Qm"
      },
      "outputs": [],
      "source": [
        "def train_val_net(net, optimizer):\n",
        "\n",
        "    criterion = torch.nn.MSELoss(reduction='sum')\n",
        "    train_r2 = torchmetrics.R2Score()\n",
        "    test_r2 = torchmetrics.R2Score()\n",
        "\n",
        "    net.train()\n",
        "\n",
        "    for epoch in range(20):\n",
        "\n",
        "        running_loss = 0.0\n",
        "        running_items = 0.0\n",
        "\n",
        "        for i, (inputs, labels) in enumerate(train_loader):\n",
        "\n",
        "            # обнуляем градиент\n",
        "            optimizer.zero_grad()\n",
        "\n",
        "            outputs = net(inputs)\n",
        "            train_r2(outputs.squeeze(), labels)\n",
        "            loss = criterion(outputs.squeeze(), labels)\n",
        "            loss.backward()\n",
        "            optimizer.step()\n",
        "\n",
        "            # выводим статистику о процессе обучения\n",
        "            running_loss += loss.item()\n",
        "            running_items += len(labels)\n",
        "\n",
        "            if i % 150 == 0:    # печатаем каждые 80 mini-batches\n",
        "                net.eval()\n",
        "                print(f'Epoch: {epoch + 1} | loss: {running_loss / running_items:.5f} | r2_train: {train_r2.compute():.5f} | ',\n",
        "                     end='')\n",
        "\n",
        "                running_loss = 0.0\n",
        "                running_items = 0.0\n",
        "                train_r2.reset()\n",
        "\n",
        "                for i, (test_inputs, test_labels) in enumerate(test_loader):\n",
        "                    test_outputs = net(test_inputs)\n",
        "                    test_r2(test_outputs.squeeze(), test_labels)\n",
        "\n",
        "                print(f'r2_val: {test_r2.compute():.5f}')\n",
        "                test_r2.reset()\n",
        "                net.train()\n",
        "\n",
        "    print('Training is finished!')"
      ]
    },
    {
      "cell_type": "code",
      "execution_count": null,
      "metadata": {
        "id": "FNlZTB2E4-Qn"
      },
      "outputs": [],
      "source": [
        "LR = 0.001"
      ]
    },
    {
      "cell_type": "code",
      "execution_count": null,
      "metadata": {
        "id": "l6RSwdYZ4-Qo",
        "outputId": "8c1485b0-65fb-4c3c-aeff-161a5068257d"
      },
      "outputs": [
        {
          "name": "stdout",
          "output_type": "stream",
          "text": [
            "Epoch: 1 | loss: 5.26765 | r2_train: -2.60437 | r2_val: -3.17550\n",
            "Epoch: 1 | loss: 0.88187 | r2_train: 0.33865 | r2_val: 0.67392\n",
            "Epoch: 2 | loss: 0.39426 | r2_train: 0.62351 | r2_val: 0.68656\n",
            "Epoch: 2 | loss: 0.43909 | r2_train: 0.66856 | r2_val: 0.66668\n",
            "Epoch: 3 | loss: 0.34769 | r2_train: 0.68237 | r2_val: 0.63897\n",
            "Epoch: 3 | loss: 0.40302 | r2_train: 0.69626 | r2_val: 0.71634\n",
            "Epoch: 4 | loss: 0.67093 | r2_train: 0.70802 | r2_val: 0.73693\n",
            "Epoch: 4 | loss: 0.38525 | r2_train: 0.70433 | r2_val: 0.67049\n",
            "Epoch: 5 | loss: 0.39372 | r2_train: 0.71012 | r2_val: 0.71836\n",
            "Epoch: 5 | loss: 0.36432 | r2_train: 0.72706 | r2_val: 0.74615\n",
            "Epoch: 6 | loss: 0.31068 | r2_train: 0.69810 | r2_val: 0.66227\n",
            "Epoch: 6 | loss: 0.36523 | r2_train: 0.72213 | r2_val: 0.67308\n",
            "Epoch: 7 | loss: 0.37293 | r2_train: 0.73104 | r2_val: 0.62090\n",
            "Epoch: 7 | loss: 0.35855 | r2_train: 0.73018 | r2_val: 0.51123\n",
            "Epoch: 8 | loss: 0.42599 | r2_train: 0.73155 | r2_val: 0.71297\n",
            "Epoch: 8 | loss: 0.36504 | r2_train: 0.72497 | r2_val: 0.74791\n",
            "Epoch: 9 | loss: 0.28500 | r2_train: 0.74179 | r2_val: 0.65070\n",
            "Epoch: 9 | loss: 0.35833 | r2_train: 0.73044 | r2_val: 0.54991\n",
            "Epoch: 10 | loss: 0.56580 | r2_train: 0.74142 | r2_val: 0.75763\n",
            "Epoch: 10 | loss: 0.34832 | r2_train: 0.73753 | r2_val: 0.76659\n",
            "Epoch: 11 | loss: 0.46138 | r2_train: 0.74059 | r2_val: 0.52781\n",
            "Epoch: 11 | loss: 0.33427 | r2_train: 0.74545 | r2_val: 0.73226\n",
            "Epoch: 12 | loss: 0.16673 | r2_train: 0.73487 | r2_val: 0.57254\n",
            "Epoch: 12 | loss: 0.34734 | r2_train: 0.73846 | r2_val: 0.74551\n",
            "Epoch: 13 | loss: 0.28604 | r2_train: 0.75385 | r2_val: 0.55594\n",
            "Epoch: 13 | loss: 0.32760 | r2_train: 0.75073 | r2_val: 0.69575\n",
            "Epoch: 14 | loss: 0.25694 | r2_train: 0.74038 | r2_val: 0.63642\n",
            "Epoch: 14 | loss: 0.33582 | r2_train: 0.75043 | r2_val: 0.56299\n",
            "Epoch: 15 | loss: 0.34325 | r2_train: 0.75202 | r2_val: 0.73847\n",
            "Epoch: 15 | loss: 0.32264 | r2_train: 0.75771 | r2_val: 0.75167\n",
            "Epoch: 16 | loss: 0.52031 | r2_train: 0.74583 | r2_val: 0.67734\n",
            "Epoch: 16 | loss: 0.33157 | r2_train: 0.74687 | r2_val: 0.77245\n",
            "Epoch: 17 | loss: 0.21342 | r2_train: 0.75194 | r2_val: 0.58643\n",
            "Epoch: 17 | loss: 0.33276 | r2_train: 0.75430 | r2_val: 0.76324\n",
            "Epoch: 18 | loss: 0.38711 | r2_train: 0.74125 | r2_val: 0.73482\n",
            "Epoch: 18 | loss: 0.32009 | r2_train: 0.75791 | r2_val: 0.62360\n",
            "Epoch: 19 | loss: 0.15857 | r2_train: 0.75011 | r2_val: 0.76821\n",
            "Epoch: 19 | loss: 0.31334 | r2_train: 0.76398 | r2_val: 0.67717\n",
            "Epoch: 20 | loss: 0.50680 | r2_train: 0.76220 | r2_val: 0.74990\n",
            "Epoch: 20 | loss: 0.33044 | r2_train: 0.75049 | r2_val: 0.62378\n",
            "Training is finished!\n"
          ]
        }
      ],
      "source": [
        "net = CaliforniaNet()\n",
        "optimiser = torch.optim.Adam(net.parameters(), lr=LR)\n",
        "train_val_net(net, optimiser)"
      ]
    },
    {
      "cell_type": "code",
      "execution_count": null,
      "metadata": {
        "id": "wZXQ2-LF4-Qo",
        "outputId": "2b99d290-ddd7-40d9-d367-01c806928fba"
      },
      "outputs": [
        {
          "name": "stdout",
          "output_type": "stream",
          "text": [
            "Epoch: 1 | loss: 5.86754 | r2_train: -2.55818 | r2_val: -1.76302\n",
            "Epoch: 1 | loss: 0.65819 | r2_train: 0.50920 | r2_val: 0.64462\n",
            "Epoch: 2 | loss: 0.36364 | r2_train: 0.66382 | r2_val: 0.71089\n",
            "Epoch: 2 | loss: 0.44424 | r2_train: 0.66060 | r2_val: 0.52385\n",
            "Epoch: 3 | loss: 0.61003 | r2_train: 0.69679 | r2_val: 0.72403\n",
            "Epoch: 3 | loss: 0.41292 | r2_train: 0.68747 | r2_val: 0.64482\n",
            "Epoch: 4 | loss: 0.32958 | r2_train: 0.71454 | r2_val: 0.72214\n",
            "Epoch: 4 | loss: 0.37891 | r2_train: 0.71173 | r2_val: 0.55414\n",
            "Epoch: 5 | loss: 0.30745 | r2_train: 0.70943 | r2_val: 0.73454\n",
            "Epoch: 5 | loss: 0.37702 | r2_train: 0.72016 | r2_val: 0.68378\n",
            "Epoch: 6 | loss: 0.27503 | r2_train: 0.72113 | r2_val: 0.75393\n",
            "Epoch: 6 | loss: 0.37143 | r2_train: 0.72192 | r2_val: 0.76127\n",
            "Epoch: 7 | loss: 0.47732 | r2_train: 0.72491 | r2_val: 0.72556\n",
            "Epoch: 7 | loss: 0.35755 | r2_train: 0.73282 | r2_val: 0.52292\n",
            "Epoch: 8 | loss: 0.28500 | r2_train: 0.73174 | r2_val: 0.75471\n",
            "Epoch: 8 | loss: 0.35062 | r2_train: 0.73524 | r2_val: 0.60994\n",
            "Epoch: 9 | loss: 0.31574 | r2_train: 0.73613 | r2_val: 0.57053\n",
            "Epoch: 9 | loss: 0.35143 | r2_train: 0.73355 | r2_val: 0.47146\n",
            "Epoch: 10 | loss: 0.21130 | r2_train: 0.75271 | r2_val: 0.72578\n",
            "Epoch: 10 | loss: 0.34305 | r2_train: 0.74144 | r2_val: 0.60979\n",
            "Epoch: 11 | loss: 0.43667 | r2_train: 0.75108 | r2_val: 0.66908\n",
            "Epoch: 11 | loss: 0.34893 | r2_train: 0.73630 | r2_val: 0.75562\n",
            "Epoch: 12 | loss: 0.34898 | r2_train: 0.74740 | r2_val: 0.58251\n",
            "Epoch: 12 | loss: 0.32122 | r2_train: 0.75783 | r2_val: 0.55614\n",
            "Epoch: 13 | loss: 0.28796 | r2_train: 0.74379 | r2_val: 0.66031\n",
            "Epoch: 13 | loss: 0.31944 | r2_train: 0.75960 | r2_val: 0.72747\n",
            "Epoch: 14 | loss: 0.44078 | r2_train: 0.73562 | r2_val: 0.72091\n",
            "Epoch: 14 | loss: 0.33136 | r2_train: 0.75228 | r2_val: 0.64179\n",
            "Epoch: 15 | loss: 0.83066 | r2_train: 0.74579 | r2_val: 0.74948\n",
            "Epoch: 15 | loss: 0.33276 | r2_train: 0.74520 | r2_val: 0.75889\n",
            "Epoch: 16 | loss: 0.28788 | r2_train: 0.76403 | r2_val: 0.65402\n",
            "Epoch: 16 | loss: 0.32831 | r2_train: 0.75765 | r2_val: 0.76494\n",
            "Epoch: 17 | loss: 0.50223 | r2_train: 0.74085 | r2_val: 0.71143\n",
            "Epoch: 17 | loss: 0.31587 | r2_train: 0.75781 | r2_val: 0.74996\n",
            "Epoch: 18 | loss: 0.15966 | r2_train: 0.74953 | r2_val: 0.59520\n",
            "Epoch: 18 | loss: 0.31580 | r2_train: 0.75884 | r2_val: 0.77744\n",
            "Epoch: 19 | loss: 0.46054 | r2_train: 0.75711 | r2_val: 0.53906\n",
            "Epoch: 19 | loss: 0.32095 | r2_train: 0.75618 | r2_val: 0.67673\n",
            "Epoch: 20 | loss: 0.25397 | r2_train: 0.77406 | r2_val: 0.75143\n",
            "Epoch: 20 | loss: 0.31576 | r2_train: 0.76372 | r2_val: 0.75137\n",
            "Training is finished!\n"
          ]
        }
      ],
      "source": [
        "net = CaliforniaNet()\n",
        "optimiser = RMSprop(net.parameters(), lr=LR)\n",
        "train_val_net(net, optimiser)"
      ]
    },
    {
      "cell_type": "code",
      "execution_count": null,
      "metadata": {
        "id": "n5FYDsES4-Qp",
        "outputId": "515fbaf6-0761-42ec-b147-0e4a2ef67b6f"
      },
      "outputs": [
        {
          "name": "stdout",
          "output_type": "stream",
          "text": [
            "Epoch: 1 | loss: 6.25981 | r2_train: -2.87747 | r2_val: -2.37986\n",
            "Epoch: 1 | loss: 0.81133 | r2_train: 0.37999 | r2_val: 0.63633\n",
            "Epoch: 2 | loss: 0.55399 | r2_train: 0.57841 | r2_val: 0.62188\n",
            "Epoch: 2 | loss: 0.50839 | r2_train: 0.61591 | r2_val: 0.63411\n",
            "Epoch: 3 | loss: 0.44242 | r2_train: 0.61591 | r2_val: 0.57334\n",
            "Epoch: 3 | loss: 0.47679 | r2_train: 0.63522 | r2_val: 0.63295\n",
            "Epoch: 4 | loss: 0.28293 | r2_train: 0.65587 | r2_val: 0.64729\n",
            "Epoch: 4 | loss: 0.43806 | r2_train: 0.66955 | r2_val: 0.51230\n",
            "Epoch: 5 | loss: 0.41008 | r2_train: 0.66990 | r2_val: 0.63512\n",
            "Epoch: 5 | loss: 0.43484 | r2_train: 0.67274 | r2_val: 0.67872\n",
            "Epoch: 6 | loss: 0.26811 | r2_train: 0.65326 | r2_val: 0.67263\n",
            "Epoch: 6 | loss: 0.41668 | r2_train: 0.68454 | r2_val: 0.65187\n",
            "Epoch: 7 | loss: 0.46506 | r2_train: 0.69902 | r2_val: 0.62359\n",
            "Epoch: 7 | loss: 0.39873 | r2_train: 0.69764 | r2_val: 0.69279\n",
            "Epoch: 8 | loss: 0.40521 | r2_train: 0.69111 | r2_val: 0.67948\n",
            "Epoch: 8 | loss: 0.40378 | r2_train: 0.69598 | r2_val: 0.72795\n",
            "Epoch: 9 | loss: 0.49713 | r2_train: 0.70136 | r2_val: 0.73565\n",
            "Epoch: 9 | loss: 0.38542 | r2_train: 0.70870 | r2_val: 0.73234\n",
            "Epoch: 10 | loss: 0.31405 | r2_train: 0.70844 | r2_val: 0.71077\n",
            "Epoch: 10 | loss: 0.37868 | r2_train: 0.71332 | r2_val: 0.71913\n",
            "Epoch: 11 | loss: 0.25531 | r2_train: 0.71905 | r2_val: 0.67165\n",
            "Epoch: 11 | loss: 0.38238 | r2_train: 0.71447 | r2_val: 0.62708\n",
            "Epoch: 12 | loss: 0.31787 | r2_train: 0.71294 | r2_val: 0.74396\n",
            "Epoch: 12 | loss: 0.37330 | r2_train: 0.71711 | r2_val: 0.69126\n",
            "Epoch: 13 | loss: 0.45722 | r2_train: 0.72890 | r2_val: 0.75067\n",
            "Epoch: 13 | loss: 0.36113 | r2_train: 0.72957 | r2_val: 0.71732\n",
            "Epoch: 14 | loss: 0.28141 | r2_train: 0.71543 | r2_val: 0.70899\n",
            "Epoch: 14 | loss: 0.37560 | r2_train: 0.71565 | r2_val: 0.65786\n",
            "Epoch: 15 | loss: 0.48909 | r2_train: 0.73069 | r2_val: 0.70987\n",
            "Epoch: 15 | loss: 0.36798 | r2_train: 0.72173 | r2_val: 0.67558\n",
            "Epoch: 16 | loss: 0.60434 | r2_train: 0.75020 | r2_val: 0.73541\n",
            "Epoch: 16 | loss: 0.37214 | r2_train: 0.71871 | r2_val: 0.74120\n",
            "Epoch: 17 | loss: 0.33755 | r2_train: 0.74396 | r2_val: 0.68326\n",
            "Epoch: 17 | loss: 0.35758 | r2_train: 0.73021 | r2_val: 0.45699\n",
            "Epoch: 18 | loss: 0.29351 | r2_train: 0.73373 | r2_val: 0.68487\n",
            "Epoch: 18 | loss: 0.35708 | r2_train: 0.73184 | r2_val: 0.70796\n",
            "Epoch: 19 | loss: 0.34454 | r2_train: 0.73394 | r2_val: 0.69622\n",
            "Epoch: 19 | loss: 0.34945 | r2_train: 0.73418 | r2_val: 0.74328\n",
            "Epoch: 20 | loss: 0.32163 | r2_train: 0.73284 | r2_val: 0.75512\n",
            "Epoch: 20 | loss: 0.34426 | r2_train: 0.74175 | r2_val: 0.75340\n",
            "Training is finished!\n"
          ]
        }
      ],
      "source": [
        "net = CaliforniaNet()\n",
        "optimiser = SGD(net.parameters(), lr=LR)\n",
        "train_val_net(net, optimiser)"
      ]
    }
  ],
  "metadata": {
    "kernelspec": {
      "display_name": "Python 3 (ipykernel)",
      "language": "python",
      "name": "python3"
    },
    "language_info": {
      "codemirror_mode": {
        "name": "ipython",
        "version": 3
      },
      "file_extension": ".py",
      "mimetype": "text/x-python",
      "name": "python",
      "nbconvert_exporter": "python",
      "pygments_lexer": "ipython3",
      "version": "3.9.7"
    },
    "colab": {
      "provenance": [],
      "include_colab_link": true
    }
  },
  "nbformat": 4,
  "nbformat_minor": 0
}