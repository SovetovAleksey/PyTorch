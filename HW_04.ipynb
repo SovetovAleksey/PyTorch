{
  "cells": [
    {
      "cell_type": "markdown",
      "metadata": {
        "id": "view-in-github",
        "colab_type": "text"
      },
      "source": [
        "<a href=\"https://colab.research.google.com/github/SovetovAleksey/PyTorch/blob/main/HW_04.ipynb\" target=\"_parent\"><img src=\"https://colab.research.google.com/assets/colab-badge.svg\" alt=\"Open In Colab\"/></a>"
      ]
    },
    {
      "cell_type": "code",
      "execution_count": null,
      "id": "376bca73",
      "metadata": {
        "id": "376bca73"
      },
      "outputs": [],
      "source": [
        "import numpy as np\n",
        "import torch\n",
        "\n",
        "from torch import nn\n",
        "from torch.nn import functional as F\n",
        "from PIL import Image\n",
        "from torchvision import transforms, datasets, models\n",
        "\n",
        "from sklearn.model_selection import train_test_split\n",
        "\n",
        "import matplotlib.pyplot as plt"
      ]
    },
    {
      "cell_type": "code",
      "execution_count": null,
      "id": "f17090b7",
      "metadata": {
        "id": "f17090b7",
        "outputId": "16aab11c-9475-4aff-e9a0-a7941a44552a"
      },
      "outputs": [
        {
          "name": "stdout",
          "output_type": "stream",
          "text": [
            "Files already downloaded and verified\n"
          ]
        }
      ],
      "source": [
        "dataset = datasets.CIFAR100(root='data/',\n",
        "                            train=True,\n",
        "                            download=True)"
      ]
    },
    {
      "cell_type": "code",
      "execution_count": null,
      "id": "0a764e10",
      "metadata": {
        "id": "0a764e10"
      },
      "outputs": [],
      "source": [
        "def train_valid_split(Xt):\n",
        "    X_train, X_test = train_test_split(Xt, test_size=0.05, random_state=13)\n",
        "    return X_train, X_test\n",
        "\n",
        "\n",
        "class MyOwnCifar(torch.utils.data.Dataset):\n",
        "\n",
        "    def __init__(self, init_dataset, transform=None):\n",
        "        self._base_dataset = init_dataset\n",
        "        self.transform = transform\n",
        "\n",
        "    def __len__(self):\n",
        "        return len(self._base_dataset)\n",
        "\n",
        "    def __getitem__(self, idx):\n",
        "        img = self._base_dataset[idx][0]  #извлекаем картинку\n",
        "        if self.transform is not None:\n",
        "            img = self.transform(img)\n",
        "        label = self._base_dataset[idx][1] #извлекаем класс\n",
        "        return img, label\n",
        "\n",
        "trans_actions = transforms.Compose([transforms.Resize(44),\n",
        "                                    transforms.RandomCrop(32, padding=4),\n",
        "                                    transforms.ToTensor()])"
      ]
    },
    {
      "cell_type": "code",
      "execution_count": null,
      "id": "190825e1",
      "metadata": {
        "id": "190825e1"
      },
      "outputs": [],
      "source": [
        "train_dataset, valid_dataset = train_valid_split(dataset)\n",
        "\n",
        "train_dataset = MyOwnCifar(train_dataset, trans_actions)\n",
        "valid_dataset = MyOwnCifar(valid_dataset, transforms.ToTensor())\n",
        "\n",
        "#итераторы для работы с датасетом\n",
        "train_loader = torch.utils.data.DataLoader(train_dataset,\n",
        "                          batch_size=128,\n",
        "                          shuffle=True,\n",
        "                          num_workers=0)\n",
        "valid_loader = torch.utils.data.DataLoader(valid_dataset,\n",
        "                          batch_size=128,\n",
        "                          shuffle=False,\n",
        "                          num_workers=0)"
      ]
    },
    {
      "cell_type": "code",
      "execution_count": null,
      "id": "56452f76",
      "metadata": {
        "id": "56452f76"
      },
      "outputs": [],
      "source": [
        "class Net(nn.Module):\n",
        "    def __init__(self):\n",
        "        super(Net, self).__init__()\n",
        "        self.s1 = nn.Sequential(\n",
        "            nn.BatchNorm2d(3),\n",
        "            nn.Conv2d(3, 64, 3),\n",
        "            nn.MaxPool2d(2),\n",
        "            nn.LeakyReLU()\n",
        "\n",
        "        )\n",
        "        self.s2 = nn.Sequential(\n",
        "            nn.BatchNorm2d(64),\n",
        "            nn.Conv2d(64, 128, 3),\n",
        "            nn.MaxPool2d(2),\n",
        "            nn.LeakyReLU()\n",
        "        )\n",
        "        self.s3 = nn.Sequential(\n",
        "            nn.BatchNorm2d(128),\n",
        "            nn.Conv2d(128, 256, 3),\n",
        "            nn.MaxPool2d(2),\n",
        "            nn.BatchNorm2d(256),\n",
        "            nn.LeakyReLU()\n",
        "        )\n",
        "        self.s4 = nn.Sequential(\n",
        "            nn.Linear(1024, 512),\n",
        "            nn.Linear(512, 256),\n",
        "            nn.Linear(256, 100)\n",
        "        )\n",
        "\n",
        "    def forward(self, x):\n",
        "        x = self.s1(x)\n",
        "        x = self.s2(x)\n",
        "        x = self.s3(x)\n",
        "        x = x.view(x.size(0), -1)\n",
        "        x = self.s4(x)\n",
        "\n",
        "        return x"
      ]
    },
    {
      "cell_type": "code",
      "execution_count": null,
      "id": "50700f80",
      "metadata": {
        "id": "50700f80"
      },
      "outputs": [],
      "source": [
        "def train_val_net(net, epochs, train_loader, valid_loader, optimozer, criterion):\n",
        "    train_acc = []\n",
        "    valid_acc = []\n",
        "\n",
        "    for epoch in range(epochs):\n",
        "        net.train()\n",
        "        running_loss, running_items, running_right = 0.0, 0.0, 0.0\n",
        "\n",
        "        for i, (inputs, labels) in enumerate(train_loader):\n",
        "            optimizer.zero_grad()\n",
        "            outputs = net(inputs)\n",
        "\n",
        "            loss = criterion(outputs, labels)\n",
        "            loss.backward()\n",
        "            optimizer.step()\n",
        "\n",
        "            running_loss += loss.item()\n",
        "            running_items += len(labels)\n",
        "            running_right += (labels == torch.max(outputs, 1)[1]).sum()\n",
        "\n",
        "        acc = running_right / running_items\n",
        "        train_acc.append(acc)\n",
        "\n",
        "        net.eval()\n",
        "        for i, (valid_inputs, valid_labels) in enumerate(valid_loader):\n",
        "            running_items_valid, running_right_valid = 0.0, 0.0\n",
        "            valid_outputs = net(valid_inputs)\n",
        "            running_items_valid += len(labels)\n",
        "            running_right_valid += (valid_labels == torch.max(valid_outputs, 1)[1]).sum()\n",
        "\n",
        "        acc = running_right_valid / running_items_valid\n",
        "        valid_acc.append(acc)\n",
        "\n",
        "    print('Training is finished!')\n",
        "    return train_acc, valid_acc"
      ]
    },
    {
      "cell_type": "code",
      "execution_count": null,
      "id": "efa01e4a",
      "metadata": {
        "id": "efa01e4a",
        "outputId": "f924ed63-1b50-436e-f201-116eda803397"
      },
      "outputs": [
        {
          "name": "stdout",
          "output_type": "stream",
          "text": [
            "Net(\n",
            "  (s1): Sequential(\n",
            "    (0): BatchNorm2d(3, eps=1e-05, momentum=0.1, affine=True, track_running_stats=True)\n",
            "    (1): Conv2d(3, 64, kernel_size=(3, 3), stride=(1, 1))\n",
            "    (2): MaxPool2d(kernel_size=2, stride=2, padding=0, dilation=1, ceil_mode=False)\n",
            "    (3): LeakyReLU(negative_slope=0.01)\n",
            "  )\n",
            "  (s2): Sequential(\n",
            "    (0): BatchNorm2d(64, eps=1e-05, momentum=0.1, affine=True, track_running_stats=True)\n",
            "    (1): Conv2d(64, 128, kernel_size=(3, 3), stride=(1, 1))\n",
            "    (2): MaxPool2d(kernel_size=2, stride=2, padding=0, dilation=1, ceil_mode=False)\n",
            "    (3): LeakyReLU(negative_slope=0.01)\n",
            "  )\n",
            "  (s3): Sequential(\n",
            "    (0): BatchNorm2d(128, eps=1e-05, momentum=0.1, affine=True, track_running_stats=True)\n",
            "    (1): Conv2d(128, 256, kernel_size=(3, 3), stride=(1, 1))\n",
            "    (2): MaxPool2d(kernel_size=2, stride=2, padding=0, dilation=1, ceil_mode=False)\n",
            "    (3): BatchNorm2d(256, eps=1e-05, momentum=0.1, affine=True, track_running_stats=True)\n",
            "    (4): LeakyReLU(negative_slope=0.01)\n",
            "  )\n",
            "  (s4): Sequential(\n",
            "    (0): Linear(in_features=1024, out_features=512, bias=True)\n",
            "    (1): Linear(in_features=512, out_features=256, bias=True)\n",
            "    (2): Linear(in_features=256, out_features=100, bias=True)\n",
            "  )\n",
            ")\n"
          ]
        }
      ],
      "source": [
        "net = Net()\n",
        "optimizer = torch.optim.Adamax(net.parameters(), lr=0.001)\n",
        "criterion = nn.CrossEntropyLoss()\n",
        "epochs = 5\n",
        "print(net)"
      ]
    },
    {
      "cell_type": "code",
      "execution_count": null,
      "id": "a7d4b96b",
      "metadata": {
        "scrolled": false,
        "id": "a7d4b96b",
        "outputId": "fdcb0f55-dfe8-4ecb-d42f-e0258d740188"
      },
      "outputs": [
        {
          "name": "stdout",
          "output_type": "stream",
          "text": [
            "Training is finished!\n"
          ]
        }
      ],
      "source": [
        "train_acc, valid_acc = train_val_net(net, epochs, train_loader, valid_loader, optimizer, criterion)"
      ]
    },
    {
      "cell_type": "code",
      "execution_count": null,
      "id": "4a17159e",
      "metadata": {
        "id": "4a17159e",
        "outputId": "ec7922c3-6516-4470-c04b-b753e881c4a5"
      },
      "outputs": [
        {
          "data": {
            "image/png": "[encoded data removed]",
            "text/plain": [
              "<Figure size 864x360 with 1 Axes>"
            ]
          },
          "metadata": {
            "needs_background": "light"
          },
          "output_type": "display_data"
        }
      ],
      "source": [
        "plt.figure(figsize = (12,5))\n",
        "plt.plot(train_acc,'-', label='train')\n",
        "plt.plot(valid_acc,'--', label='val')\n",
        "plt.legend()\n",
        "plt.xlabel('Epoch')\n",
        "plt.ylabel('Accuracy')\n",
        "plt.grid()\n",
        "plt.show()"
      ]
    }
  ],
  "metadata": {
    "kernelspec": {
      "display_name": "Python 3 (ipykernel)",
      "language": "python",
      "name": "python3"
    },
    "language_info": {
      "codemirror_mode": {
        "name": "ipython",
        "version": 3
      },
      "file_extension": ".py",
      "mimetype": "text/x-python",
      "name": "python",
      "nbconvert_exporter": "python",
      "pygments_lexer": "ipython3",
      "version": "3.9.7"
    },
    "colab": {
      "provenance": [],
      "include_colab_link": true
    }
  },
  "nbformat": 4,
  "nbformat_minor": 5
}